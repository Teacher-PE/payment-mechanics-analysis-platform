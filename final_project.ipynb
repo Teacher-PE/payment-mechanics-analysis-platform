{
 "cells": [
  {
   "cell_type": "markdown",
   "metadata": {},
   "source": [
    "## Оценка новой механики оплаты и аналитика активности пользователей на образовательной платформе"
   ]
  },
  {
   "cell_type": "markdown",
   "metadata": {},
   "source": [
    "**Описание проекта:** Проект направлен на анализ результатов A/B-теста новой механики оплаты на образовательной платформе и оценку её эффективности по ключевым метрикам. Дополнительно исследуется активность пользователей в двух группах, а также отслеживаются основные метрики с помощью SQL-запросов. Все данные обрабатываются и визуализируются в Python для наглядного представления результатов.\n",
    "\n",
    "**Цель:** Оценка эффективности и оптимизация образовательных продуктов через анализ ключевых метрик и проведение A/B-тестов.\n",
    "\n",
    "**Технологический стек:** Python (pandas, scipy.stats, numpy, pandahouse, seaborn, matplotlib), SQL (ClickHouse), Jupyter Notebook, Git."
   ]
  },
  {
   "cell_type": "code",
   "execution_count": 169,
   "metadata": {},
   "outputs": [],
   "source": [
    "# Загрузим все необходимые нам библиотеки\n",
    "import datetime\n",
    "import pandas as pd\n",
    "import numpy as np\n",
    "import pandahouse as ph\n",
    "import scipy.stats as ss\n",
    "from scipy.stats import mannwhitneyu\n",
    "from scipy.stats import chi2_contingency, chi2 \n",
    "\n",
    "import seaborn as sns\n",
    "import plotly.express as px\n",
    "import matplotlib.pyplot as plt"
   ]
  },
  {
   "cell_type": "markdown",
   "metadata": {},
   "source": [
    "## A/B–тестирование \n",
    "\n",
    "### 1.1 Условие\n",
    "\n",
    "В ходе тестирования одной гипотезы целевой группе была предложена новая механика оплаты услуг на сайте, у контрольной группы оставалась базовая механика. \n",
    "Необходимо проанализировать итоги эксперимента и сделать вывод, стоит ли запускать новую механику оплаты на всех пользователей.\n",
    "\n",
    "### 1.2 Входные данные\n",
    "\n",
    "В качестве входных данных имеется 4 csv-файла:\n",
    "\n",
    "- groups.csv – файл с информацией о принадлежности пользователя к контрольной \n",
    "или экспериментальной группе (А – контроль, B – целевая группа) \n",
    "- groups_add.csv – дополнительный файл с пользователями, который вам прислали спустя 2 дня после передачи данных\n",
    "- active_studs.csv – файл с информацией о пользователях, которые зашли на платформу в дни проведения эксперимента. \n",
    "- checks.csv – файл с информацией об оплатах пользователей в дни проведения эксперимента."
   ]
  },
  {
   "cell_type": "code",
   "execution_count": 170,
   "metadata": {},
   "outputs": [],
   "source": [
    "# Подгрузим все файлы и допишем описание этих файлов из задания\n",
    "# Так же сразу проверим на наличие Nan значений, типы данных, и количество значений"
   ]
  },
  {
   "cell_type": "code",
   "execution_count": 171,
   "metadata": {},
   "outputs": [],
   "source": [
    "groups = pd.read_csv('Проект_2_groups.csv', sep=';')\n",
    "group_add = pd.read_csv('Проект_2_group_add.csv')\n",
    "activ_studs = pd.read_csv('Проект_2_active_studs.csv')\n",
    "checks = pd.read_csv('Проект_2_checks.csv', sep=';')"
   ]
  },
  {
   "cell_type": "code",
   "execution_count": 172,
   "metadata": {},
   "outputs": [
    {
     "data": {
      "text/html": [
       "<div>\n",
       "<style scoped>\n",
       "    .dataframe tbody tr th:only-of-type {\n",
       "        vertical-align: middle;\n",
       "    }\n",
       "\n",
       "    .dataframe tbody tr th {\n",
       "        vertical-align: top;\n",
       "    }\n",
       "\n",
       "    .dataframe thead th {\n",
       "        text-align: right;\n",
       "    }\n",
       "</style>\n",
       "<table border=\"1\" class=\"dataframe\">\n",
       "  <thead>\n",
       "    <tr style=\"text-align: right;\">\n",
       "      <th></th>\n",
       "      <th>id</th>\n",
       "      <th>grp</th>\n",
       "    </tr>\n",
       "  </thead>\n",
       "  <tbody>\n",
       "    <tr>\n",
       "      <th>0</th>\n",
       "      <td>1489</td>\n",
       "      <td>B</td>\n",
       "    </tr>\n",
       "    <tr>\n",
       "      <th>1</th>\n",
       "      <td>1627</td>\n",
       "      <td>A</td>\n",
       "    </tr>\n",
       "    <tr>\n",
       "      <th>2</th>\n",
       "      <td>1768</td>\n",
       "      <td>B</td>\n",
       "    </tr>\n",
       "    <tr>\n",
       "      <th>3</th>\n",
       "      <td>1783</td>\n",
       "      <td>B</td>\n",
       "    </tr>\n",
       "    <tr>\n",
       "      <th>4</th>\n",
       "      <td>1794</td>\n",
       "      <td>A</td>\n",
       "    </tr>\n",
       "  </tbody>\n",
       "</table>\n",
       "</div>"
      ],
      "text/plain": [
       "     id grp\n",
       "0  1489   B\n",
       "1  1627   A\n",
       "2  1768   B\n",
       "3  1783   B\n",
       "4  1794   A"
      ]
     },
     "execution_count": 172,
     "metadata": {},
     "output_type": "execute_result"
    }
   ],
   "source": [
    "# ДФ с информацией о принадлежности пользователя к контрольной или экспериментальной группе \n",
    "# (А – контроль, B – целевая группа) \n",
    "groups.head()"
   ]
  },
  {
   "cell_type": "code",
   "execution_count": 173,
   "metadata": {},
   "outputs": [
    {
     "name": "stdout",
     "output_type": "stream",
     "text": [
      "<class 'pandas.core.frame.DataFrame'>\n",
      "RangeIndex: 74484 entries, 0 to 74483\n",
      "Data columns (total 2 columns):\n",
      " #   Column  Non-Null Count  Dtype \n",
      "---  ------  --------------  ----- \n",
      " 0   id      74484 non-null  int64 \n",
      " 1   grp     74484 non-null  object\n",
      "dtypes: int64(1), object(1)\n",
      "memory usage: 1.1+ MB\n"
     ]
    }
   ],
   "source": [
    "groups.info()"
   ]
  },
  {
   "cell_type": "code",
   "execution_count": 174,
   "metadata": {},
   "outputs": [
    {
     "data": {
      "text/html": [
       "<div>\n",
       "<style scoped>\n",
       "    .dataframe tbody tr th:only-of-type {\n",
       "        vertical-align: middle;\n",
       "    }\n",
       "\n",
       "    .dataframe tbody tr th {\n",
       "        vertical-align: top;\n",
       "    }\n",
       "\n",
       "    .dataframe thead th {\n",
       "        text-align: right;\n",
       "    }\n",
       "</style>\n",
       "<table border=\"1\" class=\"dataframe\">\n",
       "  <thead>\n",
       "    <tr style=\"text-align: right;\">\n",
       "      <th></th>\n",
       "      <th>id</th>\n",
       "      <th>grp</th>\n",
       "    </tr>\n",
       "  </thead>\n",
       "  <tbody>\n",
       "    <tr>\n",
       "      <th>0</th>\n",
       "      <td>5694584</td>\n",
       "      <td>B</td>\n",
       "    </tr>\n",
       "    <tr>\n",
       "      <th>1</th>\n",
       "      <td>5694830</td>\n",
       "      <td>B</td>\n",
       "    </tr>\n",
       "    <tr>\n",
       "      <th>2</th>\n",
       "      <td>5695057</td>\n",
       "      <td>B</td>\n",
       "    </tr>\n",
       "    <tr>\n",
       "      <th>3</th>\n",
       "      <td>5698872</td>\n",
       "      <td>B</td>\n",
       "    </tr>\n",
       "    <tr>\n",
       "      <th>4</th>\n",
       "      <td>5699067</td>\n",
       "      <td>B</td>\n",
       "    </tr>\n",
       "  </tbody>\n",
       "</table>\n",
       "</div>"
      ],
      "text/plain": [
       "        id grp\n",
       "0  5694584   B\n",
       "1  5694830   B\n",
       "2  5695057   B\n",
       "3  5698872   B\n",
       "4  5699067   B"
      ]
     },
     "execution_count": 174,
     "metadata": {},
     "output_type": "execute_result"
    }
   ],
   "source": [
    "# дополнительный ДФ с пользователями, который прислали спустя 2 дня после передачи данных\n",
    "group_add.head()"
   ]
  },
  {
   "cell_type": "code",
   "execution_count": 175,
   "metadata": {},
   "outputs": [
    {
     "name": "stdout",
     "output_type": "stream",
     "text": [
      "<class 'pandas.core.frame.DataFrame'>\n",
      "RangeIndex: 92 entries, 0 to 91\n",
      "Data columns (total 2 columns):\n",
      " #   Column  Non-Null Count  Dtype \n",
      "---  ------  --------------  ----- \n",
      " 0   id      92 non-null     int64 \n",
      " 1   grp     92 non-null     object\n",
      "dtypes: int64(1), object(1)\n",
      "memory usage: 1.6+ KB\n"
     ]
    }
   ],
   "source": [
    "group_add.info()"
   ]
  },
  {
   "cell_type": "code",
   "execution_count": 176,
   "metadata": {},
   "outputs": [
    {
     "data": {
      "text/html": [
       "<div>\n",
       "<style scoped>\n",
       "    .dataframe tbody tr th:only-of-type {\n",
       "        vertical-align: middle;\n",
       "    }\n",
       "\n",
       "    .dataframe tbody tr th {\n",
       "        vertical-align: top;\n",
       "    }\n",
       "\n",
       "    .dataframe thead th {\n",
       "        text-align: right;\n",
       "    }\n",
       "</style>\n",
       "<table border=\"1\" class=\"dataframe\">\n",
       "  <thead>\n",
       "    <tr style=\"text-align: right;\">\n",
       "      <th></th>\n",
       "      <th>student_id</th>\n",
       "    </tr>\n",
       "  </thead>\n",
       "  <tbody>\n",
       "    <tr>\n",
       "      <th>0</th>\n",
       "      <td>581585</td>\n",
       "    </tr>\n",
       "    <tr>\n",
       "      <th>1</th>\n",
       "      <td>5723133</td>\n",
       "    </tr>\n",
       "    <tr>\n",
       "      <th>2</th>\n",
       "      <td>3276743</td>\n",
       "    </tr>\n",
       "    <tr>\n",
       "      <th>3</th>\n",
       "      <td>4238589</td>\n",
       "    </tr>\n",
       "    <tr>\n",
       "      <th>4</th>\n",
       "      <td>4475369</td>\n",
       "    </tr>\n",
       "  </tbody>\n",
       "</table>\n",
       "</div>"
      ],
      "text/plain": [
       "   student_id\n",
       "0      581585\n",
       "1     5723133\n",
       "2     3276743\n",
       "3     4238589\n",
       "4     4475369"
      ]
     },
     "execution_count": 176,
     "metadata": {},
     "output_type": "execute_result"
    }
   ],
   "source": [
    "# ДФ с информацией о пользователях, которые зашли на платформу в дни проведения эксперимента. \n",
    "activ_studs.head()"
   ]
  },
  {
   "cell_type": "code",
   "execution_count": 177,
   "metadata": {},
   "outputs": [
    {
     "name": "stdout",
     "output_type": "stream",
     "text": [
      "<class 'pandas.core.frame.DataFrame'>\n",
      "RangeIndex: 8341 entries, 0 to 8340\n",
      "Data columns (total 1 columns):\n",
      " #   Column      Non-Null Count  Dtype\n",
      "---  ------      --------------  -----\n",
      " 0   student_id  8341 non-null   int64\n",
      "dtypes: int64(1)\n",
      "memory usage: 65.3 KB\n"
     ]
    }
   ],
   "source": [
    "activ_studs.info()"
   ]
  },
  {
   "cell_type": "code",
   "execution_count": 178,
   "metadata": {},
   "outputs": [
    {
     "data": {
      "text/html": [
       "<div>\n",
       "<style scoped>\n",
       "    .dataframe tbody tr th:only-of-type {\n",
       "        vertical-align: middle;\n",
       "    }\n",
       "\n",
       "    .dataframe tbody tr th {\n",
       "        vertical-align: top;\n",
       "    }\n",
       "\n",
       "    .dataframe thead th {\n",
       "        text-align: right;\n",
       "    }\n",
       "</style>\n",
       "<table border=\"1\" class=\"dataframe\">\n",
       "  <thead>\n",
       "    <tr style=\"text-align: right;\">\n",
       "      <th></th>\n",
       "      <th>student_id</th>\n",
       "      <th>rev</th>\n",
       "    </tr>\n",
       "  </thead>\n",
       "  <tbody>\n",
       "    <tr>\n",
       "      <th>0</th>\n",
       "      <td>1627</td>\n",
       "      <td>990.0</td>\n",
       "    </tr>\n",
       "    <tr>\n",
       "      <th>1</th>\n",
       "      <td>3185</td>\n",
       "      <td>690.0</td>\n",
       "    </tr>\n",
       "    <tr>\n",
       "      <th>2</th>\n",
       "      <td>25973</td>\n",
       "      <td>690.0</td>\n",
       "    </tr>\n",
       "    <tr>\n",
       "      <th>3</th>\n",
       "      <td>26280</td>\n",
       "      <td>690.0</td>\n",
       "    </tr>\n",
       "    <tr>\n",
       "      <th>4</th>\n",
       "      <td>100300</td>\n",
       "      <td>990.0</td>\n",
       "    </tr>\n",
       "  </tbody>\n",
       "</table>\n",
       "</div>"
      ],
      "text/plain": [
       "   student_id    rev\n",
       "0        1627  990.0\n",
       "1        3185  690.0\n",
       "2       25973  690.0\n",
       "3       26280  690.0\n",
       "4      100300  990.0"
      ]
     },
     "execution_count": 178,
     "metadata": {},
     "output_type": "execute_result"
    }
   ],
   "source": [
    "# ДФ с информацией об оплатах пользователей в дни проведения эксперимента. \n",
    "checks.head()"
   ]
  },
  {
   "cell_type": "code",
   "execution_count": 179,
   "metadata": {},
   "outputs": [
    {
     "name": "stdout",
     "output_type": "stream",
     "text": [
      "<class 'pandas.core.frame.DataFrame'>\n",
      "RangeIndex: 541 entries, 0 to 540\n",
      "Data columns (total 2 columns):\n",
      " #   Column      Non-Null Count  Dtype  \n",
      "---  ------      --------------  -----  \n",
      " 0   student_id  541 non-null    int64  \n",
      " 1   rev         541 non-null    float64\n",
      "dtypes: float64(1), int64(1)\n",
      "memory usage: 8.6 KB\n"
     ]
    }
   ],
   "source": [
    "checks.info()"
   ]
  },
  {
   "cell_type": "code",
   "execution_count": 180,
   "metadata": {},
   "outputs": [],
   "source": [
    "# Как видим, пропущенных значений нет, типы данных также соотвестуют своим значениям."
   ]
  },
  {
   "cell_type": "code",
   "execution_count": 181,
   "metadata": {},
   "outputs": [
    {
     "name": "stdout",
     "output_type": "stream",
     "text": [
      "groups - Всего значений: 74484, из них уникальных: 74484\n",
      "group_add - Всего значений: 92, из них уникальных: 92\n",
      "activ_studs - Всего значений: 8341, из них уникальных: 8341\n",
      "checks - Всего значений: 541, из них уникальных: 541\n"
     ]
    }
   ],
   "source": [
    "# Так же проверим на наличие дубликатов\n",
    "\n",
    "print(f'groups - Всего значений: {groups[\"id\"].count()}, из них уникальных: {groups[\"id\"].nunique()}')\n",
    "print(f\"group_add - Всего значений: {group_add['id'].count()}, из них уникальных: {group_add['id'].nunique()}\")\n",
    "print(f'activ_studs - Всего значений: {activ_studs[\"student_id\"].count()}, из них уникальных: {activ_studs[\"student_id\"].nunique()}')\n",
    "print(f'checks - Всего значений: {checks[\"student_id\"].count()}, из них уникальных: {checks[\"student_id\"].nunique()}')"
   ]
  },
  {
   "cell_type": "code",
   "execution_count": 182,
   "metadata": {},
   "outputs": [
    {
     "name": "stdout",
     "output_type": "stream",
     "text": [
      "groups - Всего значений: 74576, из них уникальных: 74576\n"
     ]
    }
   ],
   "source": [
    "# Соединим пользователей, которые добавились во 2ой день с изначальным списком\n",
    "\n",
    "groups = pd.concat([groups, group_add])\n",
    "print(f'groups - Всего значений: {groups[\"id\"].count()}, из них уникальных: {groups[\"id\"].nunique()}')"
   ]
  },
  {
   "cell_type": "code",
   "execution_count": 183,
   "metadata": {},
   "outputs": [
    {
     "data": {
      "text/html": [
       "<div>\n",
       "<style scoped>\n",
       "    .dataframe tbody tr th:only-of-type {\n",
       "        vertical-align: middle;\n",
       "    }\n",
       "\n",
       "    .dataframe tbody tr th {\n",
       "        vertical-align: top;\n",
       "    }\n",
       "\n",
       "    .dataframe thead th {\n",
       "        text-align: right;\n",
       "    }\n",
       "</style>\n",
       "<table border=\"1\" class=\"dataframe\">\n",
       "  <thead>\n",
       "    <tr style=\"text-align: right;\">\n",
       "      <th></th>\n",
       "      <th>id</th>\n",
       "      <th>grp</th>\n",
       "      <th>student_id_x</th>\n",
       "      <th>student_id_y</th>\n",
       "      <th>rev</th>\n",
       "    </tr>\n",
       "  </thead>\n",
       "  <tbody>\n",
       "    <tr>\n",
       "      <th>0</th>\n",
       "      <td>1489</td>\n",
       "      <td>B</td>\n",
       "      <td>NaN</td>\n",
       "      <td>NaN</td>\n",
       "      <td>NaN</td>\n",
       "    </tr>\n",
       "    <tr>\n",
       "      <th>1</th>\n",
       "      <td>1627</td>\n",
       "      <td>A</td>\n",
       "      <td>1627.0</td>\n",
       "      <td>1627.0</td>\n",
       "      <td>990.0</td>\n",
       "    </tr>\n",
       "    <tr>\n",
       "      <th>2</th>\n",
       "      <td>1768</td>\n",
       "      <td>B</td>\n",
       "      <td>NaN</td>\n",
       "      <td>NaN</td>\n",
       "      <td>NaN</td>\n",
       "    </tr>\n",
       "    <tr>\n",
       "      <th>3</th>\n",
       "      <td>1783</td>\n",
       "      <td>B</td>\n",
       "      <td>NaN</td>\n",
       "      <td>NaN</td>\n",
       "      <td>NaN</td>\n",
       "    </tr>\n",
       "    <tr>\n",
       "      <th>4</th>\n",
       "      <td>1794</td>\n",
       "      <td>A</td>\n",
       "      <td>NaN</td>\n",
       "      <td>NaN</td>\n",
       "      <td>NaN</td>\n",
       "    </tr>\n",
       "  </tbody>\n",
       "</table>\n",
       "</div>"
      ],
      "text/plain": [
       "     id grp  student_id_x  student_id_y    rev\n",
       "0  1489   B           NaN           NaN    NaN\n",
       "1  1627   A        1627.0        1627.0  990.0\n",
       "2  1768   B           NaN           NaN    NaN\n",
       "3  1783   B           NaN           NaN    NaN\n",
       "4  1794   A           NaN           NaN    NaN"
      ]
     },
     "execution_count": 183,
     "metadata": {},
     "output_type": "execute_result"
    }
   ],
   "source": [
    "# Получаем датафрейм в котором все пользователи уникальные и не повторяются\n",
    "\n",
    "full_df = groups.merge(activ_studs, how='left', left_on='id', right_on='student_id')\n",
    "full_df = full_df.merge(checks, how='left', left_on='id', right_on='student_id')\n",
    "full_df.head()"
   ]
  },
  {
   "cell_type": "code",
   "execution_count": 184,
   "metadata": {},
   "outputs": [],
   "source": [
    "full_df = full_df.rename(columns={'student_id_x':'activ_studs','student_id_y':'check_studs'})"
   ]
  },
  {
   "cell_type": "code",
   "execution_count": 185,
   "metadata": {},
   "outputs": [
    {
     "name": "stdout",
     "output_type": "stream",
     "text": [
      "<class 'pandas.core.frame.DataFrame'>\n",
      "Int64Index: 74576 entries, 0 to 74575\n",
      "Data columns (total 5 columns):\n",
      " #   Column       Non-Null Count  Dtype  \n",
      "---  ------       --------------  -----  \n",
      " 0   id           74576 non-null  int64  \n",
      " 1   grp          74576 non-null  object \n",
      " 2   activ_studs  8341 non-null   float64\n",
      " 3   check_studs  541 non-null    float64\n",
      " 4   rev          541 non-null    float64\n",
      "dtypes: float64(3), int64(1), object(1)\n",
      "memory usage: 3.4+ MB\n"
     ]
    }
   ],
   "source": [
    "# Для начала отсечем пользователей, которые не заходили в дни эксперимента, тк мы не знаем как они бы себя повели.\n",
    "# Соответственно результат мог быть другой, но в нашем случае они будут мешать \n",
    "# и могут повлиять на показатели статистики\n",
    "\n",
    "full_df.info()"
   ]
  },
  {
   "cell_type": "code",
   "execution_count": 186,
   "metadata": {},
   "outputs": [
    {
     "data": {
      "text/html": [
       "<div>\n",
       "<style scoped>\n",
       "    .dataframe tbody tr th:only-of-type {\n",
       "        vertical-align: middle;\n",
       "    }\n",
       "\n",
       "    .dataframe tbody tr th {\n",
       "        vertical-align: top;\n",
       "    }\n",
       "\n",
       "    .dataframe thead th {\n",
       "        text-align: right;\n",
       "    }\n",
       "</style>\n",
       "<table border=\"1\" class=\"dataframe\">\n",
       "  <thead>\n",
       "    <tr style=\"text-align: right;\">\n",
       "      <th></th>\n",
       "      <th>id</th>\n",
       "      <th>grp</th>\n",
       "      <th>activ_studs</th>\n",
       "      <th>check_studs</th>\n",
       "      <th>rev</th>\n",
       "    </tr>\n",
       "  </thead>\n",
       "  <tbody>\n",
       "    <tr>\n",
       "      <th>1</th>\n",
       "      <td>1627</td>\n",
       "      <td>A</td>\n",
       "      <td>1627.0</td>\n",
       "      <td>1627.0</td>\n",
       "      <td>990.0</td>\n",
       "    </tr>\n",
       "    <tr>\n",
       "      <th>39</th>\n",
       "      <td>3185</td>\n",
       "      <td>B</td>\n",
       "      <td>NaN</td>\n",
       "      <td>3185.0</td>\n",
       "      <td>690.0</td>\n",
       "    </tr>\n",
       "    <tr>\n",
       "      <th>121</th>\n",
       "      <td>25973</td>\n",
       "      <td>B</td>\n",
       "      <td>NaN</td>\n",
       "      <td>25973.0</td>\n",
       "      <td>690.0</td>\n",
       "    </tr>\n",
       "    <tr>\n",
       "      <th>125</th>\n",
       "      <td>26280</td>\n",
       "      <td>B</td>\n",
       "      <td>NaN</td>\n",
       "      <td>26280.0</td>\n",
       "      <td>690.0</td>\n",
       "    </tr>\n",
       "    <tr>\n",
       "      <th>220</th>\n",
       "      <td>100300</td>\n",
       "      <td>B</td>\n",
       "      <td>100300.0</td>\n",
       "      <td>100300.0</td>\n",
       "      <td>990.0</td>\n",
       "    </tr>\n",
       "  </tbody>\n",
       "</table>\n",
       "</div>"
      ],
      "text/plain": [
       "         id grp  activ_studs  check_studs    rev\n",
       "1      1627   A       1627.0       1627.0  990.0\n",
       "39     3185   B          NaN       3185.0  690.0\n",
       "121   25973   B          NaN      25973.0  690.0\n",
       "125   26280   B          NaN      26280.0  690.0\n",
       "220  100300   B     100300.0     100300.0  990.0"
      ]
     },
     "execution_count": 186,
     "metadata": {},
     "output_type": "execute_result"
    }
   ],
   "source": [
    "# Проверим наличие статуса активности студента, тех кто совершал платежи\n",
    "full_df.dropna(subset=['check_studs']).head()"
   ]
  },
  {
   "cell_type": "code",
   "execution_count": 187,
   "metadata": {},
   "outputs": [],
   "source": [
    "# Возникает проблема: пользователи которые совершили оплату, не отображаются в колонке с пользователями которые \n",
    "# заходили в дни эксперимента на платформу\n",
    "\n",
    "# Логика: Если услуга оплачивалсь -> пользователь посещал платформу"
   ]
  },
  {
   "cell_type": "code",
   "execution_count": 188,
   "metadata": {},
   "outputs": [],
   "source": [
    "df_full = full_df\n",
    "df_full['activ_studs'] = df_full['activ_studs'].fillna(df_full['check_studs'])\n",
    "df_full = df_full.dropna(subset=['activ_studs'])"
   ]
  },
  {
   "cell_type": "code",
   "execution_count": 189,
   "metadata": {},
   "outputs": [
    {
     "name": "stdout",
     "output_type": "stream",
     "text": [
      "<class 'pandas.core.frame.DataFrame'>\n",
      "Int64Index: 8490 entries, 1 to 74562\n",
      "Data columns (total 5 columns):\n",
      " #   Column       Non-Null Count  Dtype  \n",
      "---  ------       --------------  -----  \n",
      " 0   id           8490 non-null   int64  \n",
      " 1   grp          8490 non-null   object \n",
      " 2   activ_studs  8490 non-null   float64\n",
      " 3   check_studs  541 non-null    float64\n",
      " 4   rev          541 non-null    float64\n",
      "dtypes: float64(3), int64(1), object(1)\n",
      "memory usage: 398.0+ KB\n"
     ]
    }
   ],
   "source": [
    "df_full.info()"
   ]
  },
  {
   "cell_type": "code",
   "execution_count": 190,
   "metadata": {},
   "outputs": [
    {
     "name": "stderr",
     "output_type": "stream",
     "text": [
      "/opt/tljh/user/lib/python3.7/site-packages/ipykernel_launcher.py:2: SettingWithCopyWarning:\n",
      "\n",
      "\n",
      "A value is trying to be set on a copy of a slice from a DataFrame.\n",
      "Try using .loc[row_indexer,col_indexer] = value instead\n",
      "\n",
      "See the caveats in the documentation: https://pandas.pydata.org/pandas-docs/stable/user_guide/indexing.html#returning-a-view-versus-a-copy\n",
      "\n",
      "/opt/tljh/user/lib/python3.7/site-packages/ipykernel_launcher.py:5: SettingWithCopyWarning:\n",
      "\n",
      "\n",
      "A value is trying to be set on a copy of a slice from a DataFrame.\n",
      "Try using .loc[row_indexer,col_indexer] = value instead\n",
      "\n",
      "See the caveats in the documentation: https://pandas.pydata.org/pandas-docs/stable/user_guide/indexing.html#returning-a-view-versus-a-copy\n",
      "\n"
     ]
    }
   ],
   "source": [
    "# Меняем значения c NaN на 0, для дальнейшей обработки данных\n",
    "df_full['rev'] = df_full['rev'].fillna(0)\n",
    "\n",
    "# Добавим колонку с целевым действием (оплатой), если оплата была - 1, если нет - 0\n",
    "df_full['action'] = df_full['rev'].apply(lambda x: 1 if x != 0 else 0)"
   ]
  },
  {
   "cell_type": "code",
   "execution_count": 191,
   "metadata": {},
   "outputs": [
    {
     "data": {
      "text/html": [
       "<div>\n",
       "<style scoped>\n",
       "    .dataframe tbody tr th:only-of-type {\n",
       "        vertical-align: middle;\n",
       "    }\n",
       "\n",
       "    .dataframe tbody tr th {\n",
       "        vertical-align: top;\n",
       "    }\n",
       "\n",
       "    .dataframe thead th {\n",
       "        text-align: right;\n",
       "    }\n",
       "</style>\n",
       "<table border=\"1\" class=\"dataframe\">\n",
       "  <thead>\n",
       "    <tr style=\"text-align: right;\">\n",
       "      <th></th>\n",
       "      <th>id</th>\n",
       "      <th>grp</th>\n",
       "      <th>activ_studs</th>\n",
       "      <th>check_studs</th>\n",
       "      <th>rev</th>\n",
       "      <th>action</th>\n",
       "    </tr>\n",
       "  </thead>\n",
       "  <tbody>\n",
       "  </tbody>\n",
       "</table>\n",
       "</div>"
      ],
      "text/plain": [
       "Empty DataFrame\n",
       "Columns: [id, grp, activ_studs, check_studs, rev, action]\n",
       "Index: []"
      ]
     },
     "execution_count": 191,
     "metadata": {},
     "output_type": "execute_result"
    }
   ],
   "source": [
    "# Проверяем, что все правильно сделали\n",
    "df_full.query('action == 1 and rev == 0')"
   ]
  },
  {
   "cell_type": "code",
   "execution_count": 192,
   "metadata": {},
   "outputs": [
    {
     "data": {
      "text/plain": [
       "<matplotlib.axes._subplots.AxesSubplot at 0x7f2e055ed208>"
      ]
     },
     "execution_count": 192,
     "metadata": {},
     "output_type": "execute_result"
    },
    {
     "data": {
      "image/png": "[encoded data removed]",
      "text/plain": [
       "<Figure size 432x288 with 1 Axes>"
      ]
     },
     "metadata": {
      "needs_background": "light"
     },
     "output_type": "display_data"
    }
   ],
   "source": [
    "# Посмотрим на расперделение данных в группах\n",
    "\n",
    "df_group = df_full.groupby(['id', 'grp'], as_index=False).agg({'rev':'mean'}).round(2)\n",
    "sns.histplot(df_group, x='rev', hue='grp', bins=50)"
   ]
  },
  {
   "cell_type": "code",
   "execution_count": 193,
   "metadata": {},
   "outputs": [
    {
     "data": {
      "text/plain": [
       "<matplotlib.axes._subplots.AxesSubplot at 0x7f2e06506630>"
      ]
     },
     "execution_count": 193,
     "metadata": {},
     "output_type": "execute_result"
    },
    {
     "data": {
      "image/png": "[encoded data removed]",
      "text/plain": [
       "<Figure size 432x288 with 1 Axes>"
      ]
     },
     "metadata": {
      "needs_background": "light"
     },
     "output_type": "display_data"
    }
   ],
   "source": [
    "# так же посмотрим отношение группы А к группе В\n",
    "sns.histplot(df_group, x='grp', hue='grp', bins=100)"
   ]
  },
  {
   "cell_type": "code",
   "execution_count": 194,
   "metadata": {},
   "outputs": [],
   "source": [
    "# В полне ожидаемный результат, \n",
    "# тк всего пользователей заходивших в даты эксперимента порядка 8 000, а те кто делали покупки не больше 600"
   ]
  },
  {
   "cell_type": "markdown",
   "metadata": {},
   "source": [
    "Тк распределение у нас ненормальное для проверки гипотез будем использовать критерий **хи-квадрата** (для проверки конверсии, тк при расчете конверсии у нас 2 категориальных переменных: группа А и В, и совершение платежа 1 и 0) и **тест Манна-Уитни** (для проверки среднего чека и ARPU). Можно было бы воспользоваться методом Boostrap, но для простого сравнения двух выборок по медиане тест Манна-Уитни будет более быстрым и эффективным."
   ]
  },
  {
   "cell_type": "code",
   "execution_count": 195,
   "metadata": {},
   "outputs": [
    {
     "data": {
      "text/html": [
       "<div>\n",
       "<style scoped>\n",
       "    .dataframe tbody tr th:only-of-type {\n",
       "        vertical-align: middle;\n",
       "    }\n",
       "\n",
       "    .dataframe tbody tr th {\n",
       "        vertical-align: top;\n",
       "    }\n",
       "\n",
       "    .dataframe thead th {\n",
       "        text-align: right;\n",
       "    }\n",
       "</style>\n",
       "<table border=\"1\" class=\"dataframe\">\n",
       "  <thead>\n",
       "    <tr style=\"text-align: right;\">\n",
       "      <th>action</th>\n",
       "      <th>0</th>\n",
       "      <th>1</th>\n",
       "    </tr>\n",
       "    <tr>\n",
       "      <th>grp</th>\n",
       "      <th></th>\n",
       "      <th></th>\n",
       "    </tr>\n",
       "  </thead>\n",
       "  <tbody>\n",
       "    <tr>\n",
       "      <th>A</th>\n",
       "      <td>1460</td>\n",
       "      <td>107</td>\n",
       "    </tr>\n",
       "    <tr>\n",
       "      <th>B</th>\n",
       "      <td>6489</td>\n",
       "      <td>434</td>\n",
       "    </tr>\n",
       "  </tbody>\n",
       "</table>\n",
       "</div>"
      ],
      "text/plain": [
       "action     0    1\n",
       "grp              \n",
       "A       1460  107\n",
       "B       6489  434"
      ]
     },
     "execution_count": 195,
     "metadata": {},
     "output_type": "execute_result"
    }
   ],
   "source": [
    "# Создадим сводную таблицу для проверки гипотезы\n",
    "\n",
    "cr_df = df_full.pivot_table(index=['grp','action'], aggfunc={'id':'count'}).rename(columns={'id':'count_users'})\n",
    "cr_df = cr_df.pivot_table(index='grp', columns='action', values='count_users')\n",
    "cr_df"
   ]
  },
  {
   "cell_type": "code",
   "execution_count": 196,
   "metadata": {},
   "outputs": [
    {
     "data": {
      "text/html": [
       "<div>\n",
       "<style scoped>\n",
       "    .dataframe tbody tr th:only-of-type {\n",
       "        vertical-align: middle;\n",
       "    }\n",
       "\n",
       "    .dataframe tbody tr th {\n",
       "        vertical-align: top;\n",
       "    }\n",
       "\n",
       "    .dataframe thead th {\n",
       "        text-align: right;\n",
       "    }\n",
       "</style>\n",
       "<table border=\"1\" class=\"dataframe\">\n",
       "  <thead>\n",
       "    <tr style=\"text-align: right;\">\n",
       "      <th>action</th>\n",
       "      <th>0</th>\n",
       "      <th>1</th>\n",
       "      <th>all</th>\n",
       "      <th>CR</th>\n",
       "    </tr>\n",
       "    <tr>\n",
       "      <th>grp</th>\n",
       "      <th></th>\n",
       "      <th></th>\n",
       "      <th></th>\n",
       "      <th></th>\n",
       "    </tr>\n",
       "  </thead>\n",
       "  <tbody>\n",
       "    <tr>\n",
       "      <th>A</th>\n",
       "      <td>1460</td>\n",
       "      <td>107</td>\n",
       "      <td>1567</td>\n",
       "      <td>6.83</td>\n",
       "    </tr>\n",
       "    <tr>\n",
       "      <th>B</th>\n",
       "      <td>6489</td>\n",
       "      <td>434</td>\n",
       "      <td>6923</td>\n",
       "      <td>6.27</td>\n",
       "    </tr>\n",
       "  </tbody>\n",
       "</table>\n",
       "</div>"
      ],
      "text/plain": [
       "action     0    1   all    CR\n",
       "grp                          \n",
       "A       1460  107  1567  6.83\n",
       "B       6489  434  6923  6.27"
      ]
     },
     "execution_count": 196,
     "metadata": {},
     "output_type": "execute_result"
    }
   ],
   "source": [
    "# Создаем колонку с конверсией каждой группы\n",
    "cr_df['all'] = cr_df[0] + cr_df[1]\n",
    "cr_df['CR'] = np.round(((cr_df[1] / cr_df['all'])*100),2)\n",
    "cr_df"
   ]
  },
  {
   "cell_type": "code",
   "execution_count": 197,
   "metadata": {},
   "outputs": [
    {
     "name": "stdout",
     "output_type": "stream",
     "text": [
      "Статистика хи-квадрат: 0.579666003588264\n",
      "p-значение: 0.4464432666411111\n"
     ]
    }
   ],
   "source": [
    "# Проверим гипотезу:\n",
    "# H0 - Новый алгоритм никак не влияет на конверсию пользователей\n",
    "# H1 - Новый алгоритм имеет статистически значимый эффект\n",
    "\n",
    "observed = [[cr_df[1]['A'], cr_df[0]['A']],[cr_df[1]['B'], cr_df[0]['B']]]\n",
    "\n",
    "stat, p, dof, expected = chi2_contingency(observed)\n",
    "\n",
    "print(f\"Статистика хи-квадрат: {stat}\")\n",
    "print(f\"p-значение: {p}\")"
   ]
  },
  {
   "cell_type": "code",
   "execution_count": 198,
   "metadata": {},
   "outputs": [
    {
     "name": "stdout",
     "output_type": "stream",
     "text": [
      "Не отклоняем H0\n"
     ]
    }
   ],
   "source": [
    "# Проверяем значение статистики с табличным значением распределения хи-квадрата\n",
    "\n",
    "prob = 0.95\n",
    "critical = chi2.ppf(prob, dof)\n",
    "if abs(stat) >= critical:\n",
    "    print('Отклоняем H0')\n",
    "else:\n",
    "    print('Не отклоняем H0')"
   ]
  },
  {
   "cell_type": "markdown",
   "metadata": {},
   "source": [
    "#### Вывод о конверсии:\n",
    "\n",
    "Тк p-value > 0.05, то у нас нет оснований отклонять нулевую гипотезу. А значит мы можем предположить что различие в конверсиях между группами можно считать случайным."
   ]
  },
  {
   "cell_type": "code",
   "execution_count": 199,
   "metadata": {},
   "outputs": [
    {
     "data": {
      "text/html": [
       "<div>\n",
       "<style scoped>\n",
       "    .dataframe tbody tr th:only-of-type {\n",
       "        vertical-align: middle;\n",
       "    }\n",
       "\n",
       "    .dataframe tbody tr th {\n",
       "        vertical-align: top;\n",
       "    }\n",
       "\n",
       "    .dataframe thead th {\n",
       "        text-align: right;\n",
       "    }\n",
       "</style>\n",
       "<table border=\"1\" class=\"dataframe\">\n",
       "  <thead>\n",
       "    <tr style=\"text-align: right;\">\n",
       "      <th></th>\n",
       "      <th>grp</th>\n",
       "      <th>rev</th>\n",
       "      <th>id</th>\n",
       "      <th>arpu</th>\n",
       "    </tr>\n",
       "  </thead>\n",
       "  <tbody>\n",
       "    <tr>\n",
       "      <th>0</th>\n",
       "      <td>A</td>\n",
       "      <td>92096.0000</td>\n",
       "      <td>1567</td>\n",
       "      <td>58.772176</td>\n",
       "    </tr>\n",
       "    <tr>\n",
       "      <th>1</th>\n",
       "      <td>B</td>\n",
       "      <td>481230.0036</td>\n",
       "      <td>6923</td>\n",
       "      <td>69.511773</td>\n",
       "    </tr>\n",
       "  </tbody>\n",
       "</table>\n",
       "</div>"
      ],
      "text/plain": [
       "  grp          rev    id       arpu\n",
       "0   A   92096.0000  1567  58.772176\n",
       "1   B  481230.0036  6923  69.511773"
      ]
     },
     "execution_count": 199,
     "metadata": {},
     "output_type": "execute_result"
    }
   ],
   "source": [
    "# Посчитаем ARPU\n",
    "# Это сумма revenue на количество пользователей, которые могли сделать, \n",
    "# а могли и не сделать транзакцию в конкретный период.\n",
    "\n",
    "arpu = df_full\n",
    "arpu = arpu.groupby('grp', as_index=False).agg({'rev':'sum','id':'nunique'})\n",
    "arpu['arpu'] = arpu['rev'] / arpu['id']\n",
    "arpu"
   ]
  },
  {
   "cell_type": "code",
   "execution_count": 200,
   "metadata": {},
   "outputs": [
    {
     "name": "stdout",
     "output_type": "stream",
     "text": [
      "U-статистика: 5449155.0\n",
      "p-value: 0.5005924615057726\n",
      "Не можем отвергнуть нулевую гипотезу, распределения не различаются.\n"
     ]
    }
   ],
   "source": [
    "# Гипотезы: \n",
    "# H0 - Новая механика оплаты услуг никак не повлияла на  метрику ARPU\n",
    "# H1 - Новая механика имеет статистически значимый эффект на метрику ARPU\n",
    "\n",
    "control_group = df_full.query('grp == \"A\"')['rev']\n",
    "test_group = df_full.query('grp == \"B\"')['rev']\n",
    "\n",
    "# Проведение теста Манна-Уитни\n",
    "statistic, p_value = mannwhitneyu(control_group, test_group, alternative='two-sided')\n",
    "\n",
    "print(\"U-статистика:\", statistic)\n",
    "print(\"p-value:\", p_value)\n",
    "\n",
    "# Интерпретация\n",
    "alpha = 0.05\n",
    "if p_value < alpha:\n",
    "    print(\"Отвергаем нулевую гипотезу, распределения различаются.\")\n",
    "else:\n",
    "    print(\"Не можем отвергнуть нулевую гипотезу, распределения не различаются.\")"
   ]
  },
  {
   "cell_type": "markdown",
   "metadata": {},
   "source": [
    "#### Вывод о ARPU:\n",
    "Такой высокий p-value (0.50) указывает на отсутствие статистически значимых различий в выручке между контрольной и тестовой группами. Соответственно, новая механика оплаты никак не влияет на средний чек на пользователя"
   ]
  },
  {
   "cell_type": "code",
   "execution_count": 201,
   "metadata": {},
   "outputs": [
    {
     "data": {
      "text/html": [
       "<div>\n",
       "<style scoped>\n",
       "    .dataframe tbody tr th:only-of-type {\n",
       "        vertical-align: middle;\n",
       "    }\n",
       "\n",
       "    .dataframe tbody tr th {\n",
       "        vertical-align: top;\n",
       "    }\n",
       "\n",
       "    .dataframe thead th {\n",
       "        text-align: right;\n",
       "    }\n",
       "</style>\n",
       "<table border=\"1\" class=\"dataframe\">\n",
       "  <thead>\n",
       "    <tr style=\"text-align: right;\">\n",
       "      <th></th>\n",
       "      <th>grp</th>\n",
       "      <th>rev</th>\n",
       "    </tr>\n",
       "  </thead>\n",
       "  <tbody>\n",
       "    <tr>\n",
       "      <th>0</th>\n",
       "      <td>A</td>\n",
       "      <td>860.710280</td>\n",
       "    </tr>\n",
       "    <tr>\n",
       "      <th>1</th>\n",
       "      <td>B</td>\n",
       "      <td>1108.824893</td>\n",
       "    </tr>\n",
       "  </tbody>\n",
       "</table>\n",
       "</div>"
      ],
      "text/plain": [
       "  grp          rev\n",
       "0   A   860.710280\n",
       "1   B  1108.824893"
      ]
     },
     "execution_count": 201,
     "metadata": {},
     "output_type": "execute_result"
    }
   ],
   "source": [
    "# Посчитаем среднюю выручку\n",
    "# Это сумма rev на количество всех транзакций за конкретный период\n",
    "\n",
    "mean = df_full\n",
    "mean = mean.query('rev > 0').groupby('grp', as_index=False).agg({'rev':'mean'})\n",
    "\n",
    "mean"
   ]
  },
  {
   "cell_type": "code",
   "execution_count": 202,
   "metadata": {},
   "outputs": [
    {
     "name": "stdout",
     "output_type": "stream",
     "text": [
      "U-статистика: 17862.0\n",
      "p-value: 0.00019316054996380152\n",
      "Отвергаем нулевую гипотезу, распределения различаются.\n"
     ]
    }
   ],
   "source": [
    "# Гипотезы: \n",
    "# H0 - Новая механика оплаты услуг никак не повлияла на средний чек\n",
    "# H1 - Новая механика имеет статистически значимый эффект на средний чек\n",
    "\n",
    "control_group_mean = df_full.query('grp == \"A\" and rev > 0')['rev']\n",
    "test_group_mean = df_full.query('grp == \"B\" and rev > 0')['rev']\n",
    "#Проведение теста Манна-Уитни\n",
    "statistic, p_value = mannwhitneyu(control_group_mean, test_group_mean, alternative='two-sided')\n",
    "\n",
    "print(\"U-статистика:\", statistic)\n",
    "print(\"p-value:\", p_value)\n",
    "\n",
    "# Интерпретация\n",
    "alpha = 0.05\n",
    "if p_value < alpha:\n",
    "    print(\"Отвергаем нулевую гипотезу, распределения различаются.\")\n",
    "else:\n",
    "    print(\"Не можем отвергнуть нулевую гипотезу, распределения не различаются.\")"
   ]
  },
  {
   "cell_type": "markdown",
   "metadata": {},
   "source": [
    "#### Вывод о среднем чеке:\n",
    "Тк p-value < 0.05, то мы отвеграем нулевую гипотезу. Значит новая механика повлияла на средний чек пользователя"
   ]
  },
  {
   "cell_type": "markdown",
   "metadata": {},
   "source": [
    "### Общий вывод: ###\n",
    "\n",
    "Новая механика оплаты, судя по результатам, не улучшила общую конверсию и не повлияла на ARPU.\n",
    "Однако она увеличила средний чек среди тех, кто совершает покупки, что может свидетельствовать о том, что покупающие пользователи стали тратить больше, когда использовали новую механику оплаты.\n",
    "\n",
    "Поскольку конверсия и ARPU не изменились, это значит, что общая выручка на пользователя осталась прежней, и просто увеличивать средний чек без увеличения числа покупающих пользователей не приведет к значимому росту общей выручки.\n",
    "\n",
    "Предположу что нужно провести дополнительный анализ, чтобы понять, какие факторы могли привести к увеличению среднего чека.\n",
    "\n",
    "На основе текущих данных, новая механика оплаты не оказывает стат значимого эффекта на такие метрики как конверсия и ARPU. Ее внедрение на всех пользователей, возможно, преждевременно. Однако, если цель — повысить средний чек, новая механика может быть полезной для сегментов пользователей, склонных к более высоким тратам.\n",
    "\n",
    "    "
   ]
  },
  {
   "cell_type": "markdown",
   "metadata": {},
   "source": [
    " \n",
    " \n",
    " \n",
    " "
   ]
  },
  {
   "cell_type": "markdown",
   "metadata": {},
   "source": [
    " "
   ]
  },
  {
   "cell_type": "markdown",
   "metadata": {},
   "source": [
    "## SQL\n",
    "\n",
    "#### 2.1.1 Условие\n",
    "\n",
    "Образовательные курсы состоят из различных уроков, каждый из которых состоит из нескольких маленьких заданий. \n",
    "Найдем очень усердных студентов, которые хотя бы раз за текущий месяц правильно решили 20 заданий.\n",
    "\n",
    "#### 2.1.2 Задача\n",
    "\n",
    "Дана таблица default.peas:\n",
    "\n",
    "Название атрибута|Тип атрибута|Смысловое значение\n",
    "-----------------|------------|-----------------------------------------\n",
    "st_id |int |ID ученика\n",
    "timest|timestamp|Время решения карточки\n",
    "correct|bool|Правильно ли решена горошина?\n",
    "subject|text|Дисциплина, в которой находится горошина\n",
    "\n",
    "\n",
    "Необходимо написать оптимальный запрос, который даст информацию \n",
    "о количестве очень усердных студентов.\n",
    "\n",
    "### 2.2 Оптимизация воронки\n",
    "\n",
    "#### 2.2.1 Условие\n",
    "\n",
    "Образовательная платформа предлагает пройти студентам курсы по модели trial: \n",
    "студент может решить бесплатно лишь 30 задач в день. \n",
    "Для неограниченного количества заданий в определенной дисциплине студенту необходимо приобрести полный доступ. \n",
    "Команда провела эксперимент, где был протестирован новый экран оплаты.\n",
    "\n",
    "#### 2.2.2 Задача\n",
    "\n",
    "Дана таблицы: default.peas (см. выше), default.studs:\n",
    "\n",
    "Название атрибута|Тип атрибута|Смысловое значение\n",
    "-----------------|------------|----------------------------------------\n",
    "st_id|int|ID ученика\n",
    "test_grp|text|Метка ученика в данном эксперименте\n",
    "\n",
    "и default.final_project_check:\n",
    "\n",
    "Название атрибута|Тип атрибута|Смысловое значение\n",
    "-----------------|------------|--------------------\n",
    "st_id|int |ID ученика\n",
    "sale_time|timestamp|Время покупки\n",
    "money|int|Цена, по которой приобрели данный курс\n",
    "subject|text |\n",
    "\n",
    "Необходимо в одном запросе выгрузить следующую информацию о группах пользователей:\n",
    "\n",
    "- ARPU \n",
    "- ARPAU \n",
    "- CR в покупку \n",
    "- СR активного пользователя в покупку \n",
    "- CR пользователя из активности по математике (subject = ’math’) в покупку курса по математике\n",
    "ARPU считается относительно всех пользователей, попавших в группы.\n",
    "\n",
    "Активным считается пользователь, за все время решивший больше 10 задач правильно в любых дисциплинах.\n",
    "\n",
    "Активным по математике считается пользователь, за все время решивший 2 или больше задач правильно по математике.\n",
    "\n",
    "**Все данные находятся в табличном виде в ClickHouse**"
   ]
  },
  {
   "cell_type": "code",
   "execution_count": 120,
   "metadata": {},
   "outputs": [],
   "source": [
    "# Подключимся к базе данных ClickHouse\n",
    "\n",
    "connection_default = {'host': 'https://clickhouse.lab.karpov.courses/',\n",
    "                      'database':'default',\n",
    "                      'user':'student', \n",
    "                      'password':'dpo_python_2020'\n",
    "                     }"
   ]
  },
  {
   "cell_type": "code",
   "execution_count": 121,
   "metadata": {},
   "outputs": [
    {
     "data": {
      "text/html": [
       "<div>\n",
       "<style scoped>\n",
       "    .dataframe tbody tr th:only-of-type {\n",
       "        vertical-align: middle;\n",
       "    }\n",
       "\n",
       "    .dataframe tbody tr th {\n",
       "        vertical-align: top;\n",
       "    }\n",
       "\n",
       "    .dataframe thead th {\n",
       "        text-align: right;\n",
       "    }\n",
       "</style>\n",
       "<table border=\"1\" class=\"dataframe\">\n",
       "  <thead>\n",
       "    <tr style=\"text-align: right;\">\n",
       "      <th></th>\n",
       "      <th>st_id</th>\n",
       "      <th>timest</th>\n",
       "      <th>correct</th>\n",
       "      <th>subject</th>\n",
       "    </tr>\n",
       "  </thead>\n",
       "  <tbody>\n",
       "    <tr>\n",
       "      <th>0</th>\n",
       "      <td>100379</td>\n",
       "      <td>2021-10-30 13:32:29</td>\n",
       "      <td>1</td>\n",
       "      <td>Theory of probability</td>\n",
       "    </tr>\n",
       "    <tr>\n",
       "      <th>1</th>\n",
       "      <td>100379</td>\n",
       "      <td>2021-10-30 14:11:19</td>\n",
       "      <td>0</td>\n",
       "      <td>Vizualization</td>\n",
       "    </tr>\n",
       "    <tr>\n",
       "      <th>2</th>\n",
       "      <td>100379</td>\n",
       "      <td>2021-10-30 15:54:22</td>\n",
       "      <td>1</td>\n",
       "      <td>Theory of probability</td>\n",
       "    </tr>\n",
       "    <tr>\n",
       "      <th>3</th>\n",
       "      <td>100379</td>\n",
       "      <td>2021-10-30 16:44:50</td>\n",
       "      <td>1</td>\n",
       "      <td>Vizualization</td>\n",
       "    </tr>\n",
       "    <tr>\n",
       "      <th>4</th>\n",
       "      <td>100379</td>\n",
       "      <td>2021-10-30 17:15:05</td>\n",
       "      <td>1</td>\n",
       "      <td>Theory of probability</td>\n",
       "    </tr>\n",
       "  </tbody>\n",
       "</table>\n",
       "</div>"
      ],
      "text/plain": [
       "    st_id              timest  correct                subject\n",
       "0  100379 2021-10-30 13:32:29        1  Theory of probability\n",
       "1  100379 2021-10-30 14:11:19        0          Vizualization\n",
       "2  100379 2021-10-30 15:54:22        1  Theory of probability\n",
       "3  100379 2021-10-30 16:44:50        1          Vizualization\n",
       "4  100379 2021-10-30 17:15:05        1  Theory of probability"
      ]
     },
     "execution_count": 121,
     "metadata": {},
     "output_type": "execute_result"
    }
   ],
   "source": [
    "# Напишем запрос, чтобы посмотреть на данные\n",
    "w = '''\n",
    "    SELECT \n",
    "        st_id,\n",
    "        toDateTime(timest) as timest, --Чтобы читался формат даты с миллисекундами\n",
    "        correct,\n",
    "        subject\n",
    "    FROM \n",
    "        {db}.peas\n",
    "    '''\n",
    "# отправляем запрос и записываем результат в пандасовский датафрейм\n",
    "w_test = ph.read_clickhouse(query=w, connection=connection_default)\n",
    "w_test.head()"
   ]
  },
  {
   "cell_type": "code",
   "execution_count": 122,
   "metadata": {},
   "outputs": [
    {
     "name": "stdout",
     "output_type": "stream",
     "text": [
      "Минимальнная дата 2021-10-30 13:00:00\n",
      "Максимальная дата 2021-10-31 17:29:52\n"
     ]
    }
   ],
   "source": [
    "# Посмотрим минимальную и максимальную дату, чтобы понимать в каких временным рамках мы находимся\n",
    "print(f'Минимальнная дата {w_test.timest.min()}')\n",
    "print(f'Максимальная дата {w_test.timest.max()}')"
   ]
  },
  {
   "cell_type": "code",
   "execution_count": 123,
   "metadata": {},
   "outputs": [],
   "source": [
    "# Делаем вывод, что данные представлены в рамках одного дня. "
   ]
  },
  {
   "cell_type": "code",
   "execution_count": 124,
   "metadata": {},
   "outputs": [
    {
     "data": {
      "text/html": [
       "<div>\n",
       "<style scoped>\n",
       "    .dataframe tbody tr th:only-of-type {\n",
       "        vertical-align: middle;\n",
       "    }\n",
       "\n",
       "    .dataframe tbody tr th {\n",
       "        vertical-align: top;\n",
       "    }\n",
       "\n",
       "    .dataframe thead th {\n",
       "        text-align: right;\n",
       "    }\n",
       "</style>\n",
       "<table border=\"1\" class=\"dataframe\">\n",
       "  <thead>\n",
       "    <tr style=\"text-align: right;\">\n",
       "      <th></th>\n",
       "      <th>diligent_students_count</th>\n",
       "    </tr>\n",
       "  </thead>\n",
       "  <tbody>\n",
       "    <tr>\n",
       "      <th>0</th>\n",
       "      <td>136</td>\n",
       "    </tr>\n",
       "  </tbody>\n",
       "</table>\n",
       "</div>"
      ],
      "text/plain": [
       "   diligent_students_count\n",
       "0                      136"
      ]
     },
     "execution_count": 124,
     "metadata": {},
     "output_type": "execute_result"
    }
   ],
   "source": [
    "diligent_students = '''\n",
    "    SELECT COUNT(DISTINCT(st_id)) as diligent_students_count\n",
    "    FROM (\n",
    "    SELECT \n",
    "        st_id\n",
    "    FROM {db}.peas\n",
    "    WHERE correct = 1\n",
    "    GROUP BY st_id\n",
    "    HAVING count(*) >= 20\n",
    "    ) as diligent_students\n",
    "    '''\n",
    "# отправляем запрос и записываем результат в пандасовский датафрейм\n",
    "diligent_students = ph.read_clickhouse(query=diligent_students, connection=connection_default)\n",
    "diligent_students"
   ]
  },
  {
   "cell_type": "markdown",
   "metadata": {},
   "source": [
    "Вывод: \n",
    "Тк по условию задачи требуется найти количество учеников, которые решили хотя бы 20 задач за месяц, а данные у нас всего за 2 дня, то мы смело берем всех учеников. Находим учеников, которые решили 20 задач и больше.\n",
    "\n",
    "Ответ: 136 учеников"
   ]
  },
  {
   "cell_type": "code",
   "execution_count": 125,
   "metadata": {},
   "outputs": [
    {
     "data": {
      "text/html": [
       "<div>\n",
       "<style scoped>\n",
       "    .dataframe tbody tr th:only-of-type {\n",
       "        vertical-align: middle;\n",
       "    }\n",
       "\n",
       "    .dataframe tbody tr th {\n",
       "        vertical-align: top;\n",
       "    }\n",
       "\n",
       "    .dataframe thead th {\n",
       "        text-align: right;\n",
       "    }\n",
       "</style>\n",
       "<table border=\"1\" class=\"dataframe\">\n",
       "  <thead>\n",
       "    <tr style=\"text-align: right;\">\n",
       "      <th></th>\n",
       "      <th>p.st_id</th>\n",
       "      <th>timest</th>\n",
       "      <th>correct</th>\n",
       "      <th>p.subject</th>\n",
       "      <th>s.test_grp</th>\n",
       "      <th>sale_time</th>\n",
       "      <th>money</th>\n",
       "      <th>f.subject</th>\n",
       "    </tr>\n",
       "  </thead>\n",
       "  <tbody>\n",
       "    <tr>\n",
       "      <th>0</th>\n",
       "      <td>100379</td>\n",
       "      <td>2021-10-30 13:32:29</td>\n",
       "      <td>1</td>\n",
       "      <td>Theory of probability</td>\n",
       "      <td>pilot</td>\n",
       "      <td>1970-01-01 03:00:00</td>\n",
       "      <td>0</td>\n",
       "      <td></td>\n",
       "    </tr>\n",
       "    <tr>\n",
       "      <th>1</th>\n",
       "      <td>100379</td>\n",
       "      <td>2021-10-30 14:11:19</td>\n",
       "      <td>0</td>\n",
       "      <td>Vizualization</td>\n",
       "      <td>pilot</td>\n",
       "      <td>1970-01-01 03:00:00</td>\n",
       "      <td>0</td>\n",
       "      <td></td>\n",
       "    </tr>\n",
       "    <tr>\n",
       "      <th>2</th>\n",
       "      <td>100379</td>\n",
       "      <td>2021-10-30 15:54:22</td>\n",
       "      <td>1</td>\n",
       "      <td>Theory of probability</td>\n",
       "      <td>pilot</td>\n",
       "      <td>1970-01-01 03:00:00</td>\n",
       "      <td>0</td>\n",
       "      <td></td>\n",
       "    </tr>\n",
       "    <tr>\n",
       "      <th>3</th>\n",
       "      <td>100379</td>\n",
       "      <td>2021-10-30 16:44:50</td>\n",
       "      <td>1</td>\n",
       "      <td>Vizualization</td>\n",
       "      <td>pilot</td>\n",
       "      <td>1970-01-01 03:00:00</td>\n",
       "      <td>0</td>\n",
       "      <td></td>\n",
       "    </tr>\n",
       "    <tr>\n",
       "      <th>4</th>\n",
       "      <td>100379</td>\n",
       "      <td>2021-10-30 17:15:05</td>\n",
       "      <td>1</td>\n",
       "      <td>Theory of probability</td>\n",
       "      <td>pilot</td>\n",
       "      <td>1970-01-01 03:00:00</td>\n",
       "      <td>0</td>\n",
       "      <td></td>\n",
       "    </tr>\n",
       "    <tr>\n",
       "      <th>5</th>\n",
       "      <td>100379</td>\n",
       "      <td>2021-10-30 18:02:37</td>\n",
       "      <td>1</td>\n",
       "      <td>Theory of probability</td>\n",
       "      <td>pilot</td>\n",
       "      <td>1970-01-01 03:00:00</td>\n",
       "      <td>0</td>\n",
       "      <td></td>\n",
       "    </tr>\n",
       "    <tr>\n",
       "      <th>6</th>\n",
       "      <td>100379</td>\n",
       "      <td>2021-10-30 18:17:25</td>\n",
       "      <td>1</td>\n",
       "      <td>Vizualization</td>\n",
       "      <td>pilot</td>\n",
       "      <td>1970-01-01 03:00:00</td>\n",
       "      <td>0</td>\n",
       "      <td></td>\n",
       "    </tr>\n",
       "    <tr>\n",
       "      <th>7</th>\n",
       "      <td>100379</td>\n",
       "      <td>2021-10-30 18:32:26</td>\n",
       "      <td>0</td>\n",
       "      <td>Theory of probability</td>\n",
       "      <td>pilot</td>\n",
       "      <td>1970-01-01 03:00:00</td>\n",
       "      <td>0</td>\n",
       "      <td></td>\n",
       "    </tr>\n",
       "    <tr>\n",
       "      <th>8</th>\n",
       "      <td>100379</td>\n",
       "      <td>2021-10-30 19:19:33</td>\n",
       "      <td>1</td>\n",
       "      <td>Vizualization</td>\n",
       "      <td>pilot</td>\n",
       "      <td>1970-01-01 03:00:00</td>\n",
       "      <td>0</td>\n",
       "      <td></td>\n",
       "    </tr>\n",
       "    <tr>\n",
       "      <th>9</th>\n",
       "      <td>100379</td>\n",
       "      <td>2021-10-30 19:28:03</td>\n",
       "      <td>1</td>\n",
       "      <td>Theory of probability</td>\n",
       "      <td>pilot</td>\n",
       "      <td>1970-01-01 03:00:00</td>\n",
       "      <td>0</td>\n",
       "      <td></td>\n",
       "    </tr>\n",
       "    <tr>\n",
       "      <th>10</th>\n",
       "      <td>100379</td>\n",
       "      <td>2021-10-30 20:23:01</td>\n",
       "      <td>0</td>\n",
       "      <td>Theory of probability</td>\n",
       "      <td>pilot</td>\n",
       "      <td>1970-01-01 03:00:00</td>\n",
       "      <td>0</td>\n",
       "      <td></td>\n",
       "    </tr>\n",
       "    <tr>\n",
       "      <th>11</th>\n",
       "      <td>100379</td>\n",
       "      <td>2021-10-30 20:32:21</td>\n",
       "      <td>1</td>\n",
       "      <td>Theory of probability</td>\n",
       "      <td>pilot</td>\n",
       "      <td>1970-01-01 03:00:00</td>\n",
       "      <td>0</td>\n",
       "      <td></td>\n",
       "    </tr>\n",
       "    <tr>\n",
       "      <th>12</th>\n",
       "      <td>100379</td>\n",
       "      <td>2021-10-30 20:58:01</td>\n",
       "      <td>0</td>\n",
       "      <td>Vizualization</td>\n",
       "      <td>pilot</td>\n",
       "      <td>1970-01-01 03:00:00</td>\n",
       "      <td>0</td>\n",
       "      <td></td>\n",
       "    </tr>\n",
       "    <tr>\n",
       "      <th>13</th>\n",
       "      <td>100379</td>\n",
       "      <td>2021-10-30 22:01:45</td>\n",
       "      <td>1</td>\n",
       "      <td>Theory of probability</td>\n",
       "      <td>pilot</td>\n",
       "      <td>1970-01-01 03:00:00</td>\n",
       "      <td>0</td>\n",
       "      <td></td>\n",
       "    </tr>\n",
       "    <tr>\n",
       "      <th>14</th>\n",
       "      <td>100379</td>\n",
       "      <td>2021-10-30 23:00:35</td>\n",
       "      <td>0</td>\n",
       "      <td>Theory of probability</td>\n",
       "      <td>pilot</td>\n",
       "      <td>1970-01-01 03:00:00</td>\n",
       "      <td>0</td>\n",
       "      <td></td>\n",
       "    </tr>\n",
       "  </tbody>\n",
       "</table>\n",
       "</div>"
      ],
      "text/plain": [
       "   p.st_id              timest  correct              p.subject s.test_grp  \\\n",
       "0   100379 2021-10-30 13:32:29        1  Theory of probability      pilot   \n",
       "1   100379 2021-10-30 14:11:19        0          Vizualization      pilot   \n",
       "2   100379 2021-10-30 15:54:22        1  Theory of probability      pilot   \n",
       "3   100379 2021-10-30 16:44:50        1          Vizualization      pilot   \n",
       "4   100379 2021-10-30 17:15:05        1  Theory of probability      pilot   \n",
       "5   100379 2021-10-30 18:02:37        1  Theory of probability      pilot   \n",
       "6   100379 2021-10-30 18:17:25        1          Vizualization      pilot   \n",
       "7   100379 2021-10-30 18:32:26        0  Theory of probability      pilot   \n",
       "8   100379 2021-10-30 19:19:33        1          Vizualization      pilot   \n",
       "9   100379 2021-10-30 19:28:03        1  Theory of probability      pilot   \n",
       "10  100379 2021-10-30 20:23:01        0  Theory of probability      pilot   \n",
       "11  100379 2021-10-30 20:32:21        1  Theory of probability      pilot   \n",
       "12  100379 2021-10-30 20:58:01        0          Vizualization      pilot   \n",
       "13  100379 2021-10-30 22:01:45        1  Theory of probability      pilot   \n",
       "14  100379 2021-10-30 23:00:35        0  Theory of probability      pilot   \n",
       "\n",
       "             sale_time  money f.subject  \n",
       "0  1970-01-01 03:00:00      0            \n",
       "1  1970-01-01 03:00:00      0            \n",
       "2  1970-01-01 03:00:00      0            \n",
       "3  1970-01-01 03:00:00      0            \n",
       "4  1970-01-01 03:00:00      0            \n",
       "5  1970-01-01 03:00:00      0            \n",
       "6  1970-01-01 03:00:00      0            \n",
       "7  1970-01-01 03:00:00      0            \n",
       "8  1970-01-01 03:00:00      0            \n",
       "9  1970-01-01 03:00:00      0            \n",
       "10 1970-01-01 03:00:00      0            \n",
       "11 1970-01-01 03:00:00      0            \n",
       "12 1970-01-01 03:00:00      0            \n",
       "13 1970-01-01 03:00:00      0            \n",
       "14 1970-01-01 03:00:00      0            "
      ]
     },
     "execution_count": 125,
     "metadata": {},
     "output_type": "execute_result"
    }
   ],
   "source": [
    "# Напишем запрос, чтобы посмотреть на данные для 2 задания\n",
    "r = '''\n",
    "    SELECT \n",
    "        p.st_id,\n",
    "        toDateTime(timest) as timest, --Чтобы читался формат даты с миллисекундами\n",
    "        correct,\n",
    "        p.subject,\n",
    "        s.test_grp,\n",
    "        toDateTime(sale_time) as sale_time,\n",
    "        money,\n",
    "        f.subject\n",
    "    FROM \n",
    "        {db}.peas as p\n",
    "    LEFT JOIN {db}.studs as s\n",
    "    ON p.st_id = s.st_id\n",
    "    LEFT JOIN {db}.final_project_check as f\n",
    "    ON p.st_id = f.st_id\n",
    "    '''\n",
    "# отправляем запрос и записываем результат в пандасовский датафрейм\n",
    "r_test = ph.read_clickhouse(query=r, connection=connection_default)\n",
    "r_test.head(15)"
   ]
  },
  {
   "cell_type": "code",
   "execution_count": 126,
   "metadata": {},
   "outputs": [
    {
     "data": {
      "text/html": [
       "<div>\n",
       "<style scoped>\n",
       "    .dataframe tbody tr th:only-of-type {\n",
       "        vertical-align: middle;\n",
       "    }\n",
       "\n",
       "    .dataframe tbody tr th {\n",
       "        vertical-align: top;\n",
       "    }\n",
       "\n",
       "    .dataframe thead th {\n",
       "        text-align: right;\n",
       "    }\n",
       "</style>\n",
       "<table border=\"1\" class=\"dataframe\">\n",
       "  <thead>\n",
       "    <tr style=\"text-align: right;\">\n",
       "      <th></th>\n",
       "      <th>groups</th>\n",
       "      <th>ARPU</th>\n",
       "    </tr>\n",
       "  </thead>\n",
       "  <tbody>\n",
       "    <tr>\n",
       "      <th>0</th>\n",
       "      <td>control</td>\n",
       "      <td>358666.67</td>\n",
       "    </tr>\n",
       "    <tr>\n",
       "      <th>1</th>\n",
       "      <td>pilot</td>\n",
       "      <td>1088461.54</td>\n",
       "    </tr>\n",
       "  </tbody>\n",
       "</table>\n",
       "</div>"
      ],
      "text/plain": [
       "    groups        ARPU\n",
       "0  control   358666.67\n",
       "1    pilot  1088461.54"
      ]
     },
     "execution_count": 126,
     "metadata": {},
     "output_type": "execute_result"
    }
   ],
   "source": [
    "# Напишем запросы для каждой метрики\n",
    "\n",
    "# ARPU = общи доход / общее кол-во польз\n",
    "\n",
    "arpu = '''\n",
    "    SELECT \n",
    "        s.test_grp as groups,\n",
    "        ROUND((sum(money) / count(distinct p.st_id)),2) as ARPU\n",
    "    FROM \n",
    "        {db}.peas as p\n",
    "        LEFT JOIN {db}.studs as s ON p.st_id = s.st_id\n",
    "        LEFT JOIN {db}.final_project_check as f ON p.st_id = f.st_id\n",
    "    GROUP BY s.test_grp\n",
    "    '''\n",
    "# отправляем запрос и записываем результат в пандасовский датафрейм\n",
    "arpu_df = ph.read_clickhouse(query=arpu, connection=connection_default)\n",
    "arpu_df.head(15)"
   ]
  },
  {
   "cell_type": "code",
   "execution_count": 127,
   "metadata": {},
   "outputs": [
    {
     "data": {
      "text/html": [
       "<div>\n",
       "<style scoped>\n",
       "    .dataframe tbody tr th:only-of-type {\n",
       "        vertical-align: middle;\n",
       "    }\n",
       "\n",
       "    .dataframe tbody tr th {\n",
       "        vertical-align: top;\n",
       "    }\n",
       "\n",
       "    .dataframe thead th {\n",
       "        text-align: right;\n",
       "    }\n",
       "</style>\n",
       "<table border=\"1\" class=\"dataframe\">\n",
       "  <thead>\n",
       "    <tr style=\"text-align: right;\">\n",
       "      <th></th>\n",
       "      <th>groups</th>\n",
       "      <th>ARPAU</th>\n",
       "    </tr>\n",
       "  </thead>\n",
       "  <tbody>\n",
       "    <tr>\n",
       "      <th>0</th>\n",
       "      <td>control</td>\n",
       "      <td>363067.48</td>\n",
       "    </tr>\n",
       "    <tr>\n",
       "      <th>1</th>\n",
       "      <td>pilot</td>\n",
       "      <td>1096126.76</td>\n",
       "    </tr>\n",
       "  </tbody>\n",
       "</table>\n",
       "</div>"
      ],
      "text/plain": [
       "    groups       ARPAU\n",
       "0  control   363067.48\n",
       "1    pilot  1096126.76"
      ]
     },
     "execution_count": 127,
     "metadata": {},
     "output_type": "execute_result"
    }
   ],
   "source": [
    "# ARPAU = общий доход / кол-во активных польз\n",
    "\n",
    "arpau = '''\n",
    "    WITH active_users as \n",
    "    (\n",
    "    SELECT \n",
    "        s.test_grp as groups, \n",
    "        COUNT(DISTINCT p.st_id) as count_active_users\n",
    "    FROM \n",
    "        {db}.peas as p\n",
    "        LEFT JOIN {db}.studs as s ON p.st_id = s.st_id\n",
    "        LEFT JOIN {db}.final_project_check as f ON p.st_id = f.st_id\n",
    "    WHERE correct = 1\n",
    "    GROUP BY s.test_grp\n",
    "    HAVING count(*) >= 10\n",
    "    \n",
    "    ), \n",
    "    revenue as \n",
    "    (\n",
    "    SELECT \n",
    "        s.test_grp as groups, \n",
    "        sum(money) as revenue\n",
    "    FROM \n",
    "        {db}.peas as p\n",
    "        LEFT JOIN {db}.studs as s ON p.st_id = s.st_id\n",
    "        LEFT JOIN {db}.final_project_check as f ON p.st_id = f.st_id\n",
    "    GROUP BY s.test_grp\n",
    "    ) -- В данном СТЕ считаем общий доход\n",
    "    \n",
    "    SELECT \n",
    "        au.groups,\n",
    "        ROUND((revenue / count_active_users),2) as ARPAU \n",
    "    FROM \n",
    "        active_users as au\n",
    "        LEFT JOIN revenue as r ON au.groups = r.groups\n",
    "    '''\n",
    "# отправляем запрос и записываем результат в пандасовский датафрейм\n",
    "arpau_df = ph.read_clickhouse(query=arpau, connection=connection_default)\n",
    "arpau_df.head(15)"
   ]
  },
  {
   "cell_type": "code",
   "execution_count": 128,
   "metadata": {},
   "outputs": [
    {
     "data": {
      "text/html": [
       "<div>\n",
       "<style scoped>\n",
       "    .dataframe tbody tr th:only-of-type {\n",
       "        vertical-align: middle;\n",
       "    }\n",
       "\n",
       "    .dataframe tbody tr th {\n",
       "        vertical-align: top;\n",
       "    }\n",
       "\n",
       "    .dataframe thead th {\n",
       "        text-align: right;\n",
       "    }\n",
       "</style>\n",
       "<table border=\"1\" class=\"dataframe\">\n",
       "  <thead>\n",
       "    <tr style=\"text-align: right;\">\n",
       "      <th></th>\n",
       "      <th>groups</th>\n",
       "      <th>CR_in_orders</th>\n",
       "    </tr>\n",
       "  </thead>\n",
       "  <tbody>\n",
       "    <tr>\n",
       "      <th>0</th>\n",
       "      <td>control</td>\n",
       "      <td>9.09</td>\n",
       "    </tr>\n",
       "    <tr>\n",
       "      <th>1</th>\n",
       "      <td>pilot</td>\n",
       "      <td>20.98</td>\n",
       "    </tr>\n",
       "  </tbody>\n",
       "</table>\n",
       "</div>"
      ],
      "text/plain": [
       "    groups  CR_in_orders\n",
       "0  control          9.09\n",
       "1    pilot         20.98"
      ]
     },
     "execution_count": 128,
     "metadata": {},
     "output_type": "execute_result"
    }
   ],
   "source": [
    "# CR в покупку = количество польз совершихших покупку / общ. кол-во польз * 100%\n",
    "\n",
    "CR_in_orders = '''\n",
    "    SELECT \n",
    "        s.test_grp as groups,\n",
    "        round(((COUNT(DISTINCT CASE \n",
    "                                WHEN money > 0 THEN p.st_id \n",
    "                                END) / COUNT(DISTINCT p.st_id))*100),2) as CR_in_orders\n",
    "    FROM \n",
    "        {db}.peas as p\n",
    "        LEFT JOIN {db}.studs as s ON p.st_id = s.st_id\n",
    "        LEFT JOIN {db}.final_project_check as f ON p.st_id = f.st_id\n",
    "    GROUP BY s.test_grp\n",
    "    '''\n",
    "# отправляем запрос и записываем результат в пандасовский датафрейм\n",
    "CR_in_orders = ph.read_clickhouse(query=CR_in_orders, connection=connection_default)\n",
    "CR_in_orders.head(15)"
   ]
  },
  {
   "cell_type": "code",
   "execution_count": 129,
   "metadata": {},
   "outputs": [
    {
     "data": {
      "text/html": [
       "<div>\n",
       "<style scoped>\n",
       "    .dataframe tbody tr th:only-of-type {\n",
       "        vertical-align: middle;\n",
       "    }\n",
       "\n",
       "    .dataframe tbody tr th {\n",
       "        vertical-align: top;\n",
       "    }\n",
       "\n",
       "    .dataframe thead th {\n",
       "        text-align: right;\n",
       "    }\n",
       "</style>\n",
       "<table border=\"1\" class=\"dataframe\">\n",
       "  <thead>\n",
       "    <tr style=\"text-align: right;\">\n",
       "      <th></th>\n",
       "      <th>groups</th>\n",
       "      <th>CR_acvite_users_in_orders</th>\n",
       "    </tr>\n",
       "  </thead>\n",
       "  <tbody>\n",
       "    <tr>\n",
       "      <th>0</th>\n",
       "      <td>control</td>\n",
       "      <td>9.20</td>\n",
       "    </tr>\n",
       "    <tr>\n",
       "      <th>1</th>\n",
       "      <td>pilot</td>\n",
       "      <td>21.13</td>\n",
       "    </tr>\n",
       "  </tbody>\n",
       "</table>\n",
       "</div>"
      ],
      "text/plain": [
       "    groups  CR_acvite_users_in_orders\n",
       "0  control                       9.20\n",
       "1    pilot                      21.13"
      ]
     },
     "execution_count": 129,
     "metadata": {},
     "output_type": "execute_result"
    }
   ],
   "source": [
    "# СR активного пользователя в покупку = кол-во активных польз совершихших покупку / кол-во активных польз. * 100%\n",
    "\n",
    "CR_acvite_users_in_orders = '''\n",
    "    SELECT \n",
    "        s.test_grp as groups, \n",
    "        round(((COUNT(DISTINCT CASE \n",
    "                                WHEN money > 0 THEN p.st_id \n",
    "                                END) / COUNT(DISTINCT p.st_id))*100),2) as CR_acvite_users_in_orders\n",
    "    FROM \n",
    "        {db}.peas as p\n",
    "        LEFT JOIN {db}.studs as s ON p.st_id = s.st_id\n",
    "        LEFT JOIN {db}.final_project_check as f ON p.st_id = f.st_id\n",
    "    WHERE correct = 1\n",
    "    GROUP BY s.test_grp\n",
    "    HAVING count(*) >= 10\n",
    "    '''\n",
    "# отправляем запрос и записываем результат в пандасовский датафрейм\n",
    "CR_acvite_users_in_orders = ph.read_clickhouse(query=CR_acvite_users_in_orders, connection=connection_default)\n",
    "CR_acvite_users_in_orders.head(15)    "
   ]
  },
  {
   "cell_type": "code",
   "execution_count": 130,
   "metadata": {},
   "outputs": [
    {
     "data": {
      "text/html": [
       "<div>\n",
       "<style scoped>\n",
       "    .dataframe tbody tr th:only-of-type {\n",
       "        vertical-align: middle;\n",
       "    }\n",
       "\n",
       "    .dataframe tbody tr th {\n",
       "        vertical-align: top;\n",
       "    }\n",
       "\n",
       "    .dataframe thead th {\n",
       "        text-align: right;\n",
       "    }\n",
       "</style>\n",
       "<table border=\"1\" class=\"dataframe\">\n",
       "  <thead>\n",
       "    <tr style=\"text-align: right;\">\n",
       "      <th></th>\n",
       "      <th>groups</th>\n",
       "      <th>CR_acvite_users_in_math</th>\n",
       "    </tr>\n",
       "  </thead>\n",
       "  <tbody>\n",
       "    <tr>\n",
       "      <th>0</th>\n",
       "      <td>control</td>\n",
       "      <td>11.76</td>\n",
       "    </tr>\n",
       "    <tr>\n",
       "      <th>1</th>\n",
       "      <td>pilot</td>\n",
       "      <td>13.64</td>\n",
       "    </tr>\n",
       "  </tbody>\n",
       "</table>\n",
       "</div>"
      ],
      "text/plain": [
       "    groups  CR_acvite_users_in_math\n",
       "0  control                    11.76\n",
       "1    pilot                    13.64"
      ]
     },
     "execution_count": 130,
     "metadata": {},
     "output_type": "execute_result"
    }
   ],
   "source": [
    "# CR пользователя из активности по математике (subject = ’math’) в покупку курса по математике = \n",
    "# кол-во польз, активных по математике и купивших курс по математике /\n",
    "# кол-во польз, активных по математике * 100%\n",
    "\n",
    "\n",
    "CR_acvite_users_in_math = '''\n",
    "    SELECT \n",
    "    s.test_grp as groups, \n",
    "    ROUND((COUNT(DISTINCT CASE \n",
    "                            WHEN money > 0 THEN p.st_id \n",
    "                            END) / COUNT(DISTINCT p.st_id)*100),2)as CR_acvite_users_in_math\n",
    "    FROM \n",
    "        {db}.peas as p\n",
    "        LEFT JOIN {db}.studs as s ON p.st_id = s.st_id\n",
    "        LEFT JOIN {db}.final_project_check as f ON p.st_id = f.st_id\n",
    "    WHERE correct = 1 AND p.subject = 'Math'\n",
    "    GROUP BY s.test_grp\n",
    "    HAVING count(*) >= 2\n",
    "    '''\n",
    "# отправляем запрос и записываем результат в пандасовский датафрейм\n",
    "CR_acvite_users_in_math = ph.read_clickhouse(query=CR_acvite_users_in_math, connection=connection_default)\n",
    "CR_acvite_users_in_math.head(15)   "
   ]
  },
  {
   "cell_type": "code",
   "execution_count": 47,
   "metadata": {},
   "outputs": [
    {
     "data": {
      "text/html": [
       "<div>\n",
       "<style scoped>\n",
       "    .dataframe tbody tr th:only-of-type {\n",
       "        vertical-align: middle;\n",
       "    }\n",
       "\n",
       "    .dataframe tbody tr th {\n",
       "        vertical-align: top;\n",
       "    }\n",
       "\n",
       "    .dataframe thead th {\n",
       "        text-align: right;\n",
       "    }\n",
       "</style>\n",
       "<table border=\"1\" class=\"dataframe\">\n",
       "  <thead>\n",
       "    <tr style=\"text-align: right;\">\n",
       "      <th></th>\n",
       "      <th>groups</th>\n",
       "      <th>arpu</th>\n",
       "      <th>arpau</th>\n",
       "      <th>CR_in_orders</th>\n",
       "      <th>CR_acvite_users_in_orders</th>\n",
       "      <th>CR_active_users_in_math</th>\n",
       "    </tr>\n",
       "  </thead>\n",
       "  <tbody>\n",
       "    <tr>\n",
       "      <th>0</th>\n",
       "      <td>control</td>\n",
       "      <td>358666.67</td>\n",
       "      <td>363067.48</td>\n",
       "      <td>9.09</td>\n",
       "      <td>9.20</td>\n",
       "      <td>11.76</td>\n",
       "    </tr>\n",
       "    <tr>\n",
       "      <th>1</th>\n",
       "      <td>pilot</td>\n",
       "      <td>1088461.54</td>\n",
       "      <td>1096126.76</td>\n",
       "      <td>20.98</td>\n",
       "      <td>21.13</td>\n",
       "      <td>13.64</td>\n",
       "    </tr>\n",
       "  </tbody>\n",
       "</table>\n",
       "</div>"
      ],
      "text/plain": [
       "    groups        arpu       arpau  CR_in_orders  CR_acvite_users_in_orders  \\\n",
       "0  control   358666.67   363067.48          9.09                       9.20   \n",
       "1    pilot  1088461.54  1096126.76         20.98                      21.13   \n",
       "\n",
       "   CR_active_users_in_math  \n",
       "0                    11.76  \n",
       "1                    13.64  "
      ]
     },
     "execution_count": 47,
     "metadata": {},
     "output_type": "execute_result"
    }
   ],
   "source": [
    "# Оптимизируем запросы и объединим все наши запросы в один запрос с СТЕ\n",
    "\n",
    "full_request = '''\n",
    "WITH total_sum_users_buy_and_count_users as \n",
    "( -- СТЕ с группами, общей суммой покупок, количеством клиентов, и кол-вом клиентов купившие полный доступ\n",
    "    SELECT \n",
    "        s.test_grp as groups,\n",
    "        SUM(money) as total_sum,\n",
    "        COUNT(DISTINCT p.st_id) AS count_users,\n",
    "        COUNT(DISTINCT CASE WHEN money > 0 THEN p.st_id END) as users_buy\n",
    "    FROM \n",
    "        {db}.peas as p\n",
    "        LEFT JOIN {db}.studs as s ON p.st_id = s.st_id\n",
    "        LEFT JOIN {db}.final_project_check as f ON p.st_id = f.st_id\n",
    "    GROUP BY s.test_grp\n",
    "), \n",
    "\n",
    "active_users_and_users_buy_course as \n",
    "( -- СТЕ с активными пользователями и с активными пользователями, которые купили полный доступ\n",
    "    SELECT \n",
    "        s.test_grp as groups, \n",
    "        COUNT(DISTINCT p.st_id) as count_active_users,\n",
    "        COUNT(DISTINCT CASE WHEN money > 0 THEN p.st_id END) as users_buy_course\n",
    "    FROM \n",
    "        {db}.peas as p\n",
    "        LEFT JOIN {db}.studs as s ON p.st_id = s.st_id\n",
    "        LEFT JOIN {db}.final_project_check as f ON p.st_id = f.st_id\n",
    "    WHERE correct = 1\n",
    "    GROUP BY s.test_grp\n",
    "    HAVING count(*) >= 10\n",
    "),\n",
    "\n",
    "CR_active_users_in_math as \n",
    "( -- СТЕ с активными пользователями по математике, а также активные пользователи по математике, которые купили полный доступ\n",
    "    SELECT \n",
    "        s.test_grp as groups, \n",
    "        COUNT(DISTINCT CASE WHEN money > 0 THEN p.st_id END) AS users_buy_math,\n",
    "        COUNT(DISTINCT p.st_id) AS acvite_users_in_math\n",
    "    FROM \n",
    "        {db}.peas as p\n",
    "        LEFT JOIN {db}.studs as s ON p.st_id = s.st_id\n",
    "        LEFT JOIN {db}.final_project_check as f ON p.st_id = f.st_id\n",
    "    WHERE correct = 1 AND p.subject = 'Math'\n",
    "    GROUP BY s.test_grp\n",
    "    HAVING count(*) >= 2\n",
    ")\n",
    "\n",
    "SELECT\n",
    "    a.groups AS groups,\n",
    "    ROUND((a.total_sum / a.count_users),2) AS arpu,\n",
    "    ROUND((a.total_sum / au.count_active_users),2) AS arpau,\n",
    "    ROUND((a.users_buy / a.count_users)*100,2) AS CR_in_orders,\n",
    "    ROUND((au.users_buy_course / au.count_active_users)*100,2) AS CR_acvite_users_in_orders,\n",
    "    ROUND((CRauim.users_buy_math / CRauim.acvite_users_in_math)*100,2) as CR_active_users_in_math\n",
    "FROM total_sum_users_buy_and_count_users AS a\n",
    "    LEFT JOIN active_users_and_users_buy_course AS au ON a.groups = au.groups\n",
    "    LEFT JOIN CR_active_users_in_math AS CRauim ON a.groups = CRauim.groups;\n",
    "'''\n",
    "# отправляем запрос и записываем результат в пандасовский датафрейм\n",
    "full_request = ph.read_clickhouse(query=full_request, connection=connection_default)\n",
    "full_request.head()"
   ]
  },
  {
   "cell_type": "markdown",
   "metadata": {},
   "source": [
    " "
   ]
  },
  {
   "cell_type": "markdown",
   "metadata": {},
   "source": [
    " "
   ]
  },
  {
   "cell_type": "markdown",
   "metadata": {},
   "source": [
    "## Python\n",
    "### 3.1 Задача\n",
    "\n",
    "Реализовать функцию, которая будет автоматически подгружать информацию \n",
    "из дополнительного файла groups_add.csv (заголовки могут отличаться) \n",
    "и на основании дополнительных параметров пересчитывать метрики.\n",
    "Реализовать функцию, которая будет строить графики по получаемым метрикам."
   ]
  },
  {
   "cell_type": "code",
   "execution_count": 48,
   "metadata": {},
   "outputs": [],
   "source": [
    "# Допустить что у нас те же файлы что и в 1 задании\n",
    "# напишем под них функции"
   ]
  },
  {
   "cell_type": "code",
   "execution_count": 49,
   "metadata": {},
   "outputs": [],
   "source": [
    "groups = pd.read_csv('Проект_2_groups.csv', sep=';')\n",
    "group_add = pd.read_csv('Проект_2_group_add.csv')\n",
    "activ_studs = pd.read_csv('Проект_2_active_studs.csv')\n",
    "checks = pd.read_csv('Проект_2_checks.csv', sep=';')"
   ]
  },
  {
   "cell_type": "code",
   "execution_count": 167,
   "metadata": {},
   "outputs": [],
   "source": [
    "# Напишем функцию, которая будет подгружать информацию из дополнительного файла и перпесчитывать метрики\n",
    "def uploading_additional_data(main_csv,add_csv):\n",
    "    \n",
    "    # Алгоритм обработки данных как в первом задании\n",
    "    add_csv.columns.values[[0, 1]] = ['id', 'grp'] # переименовываем столбцы\n",
    "    add_csv = pd.concat([main_csv, add_csv]) # соединяем с изначальным датасетом\n",
    "    \n",
    "    # Мерджим с остальными необходимыми датасетами, переименовываем колонки, для дальшейней работы \n",
    "    full_df = add_csv.merge(activ_studs, how='left', left_on='id', right_on='student_id') \n",
    "    full_df = full_df.merge(checks, how='left', left_on='id', right_on='student_id') \n",
    "    full_df = full_df.rename(columns={'student_id_x':'activ_studs','student_id_y':'check_studs'}) \n",
    "    \n",
    "    # Удаляем пользователей, которых не было на сайте в дни эксперимента\n",
    "    df_full = full_df\n",
    "    df_full['activ_studs'] = df_full['activ_studs'].fillna(df_full['check_studs'])\n",
    "    df_full = df_full.dropna(subset=['activ_studs'])\n",
    "    \n",
    "    # Находим CR \n",
    "    cr = df_full\n",
    "    cr['activ_studs'] = cr['activ_studs'].fillna(cr['check_studs'])\n",
    "    cr = cr.dropna(subset=['activ_studs'])\n",
    "    cr = cr.groupby('grp', as_index=False).agg({'rev':'count','id':'nunique'})\n",
    "    cr['cr'] = round(((cr['rev'] / cr['id'])*100),2)\n",
    "    \n",
    "    # Находим ARPU\n",
    "    arpu = df_full\n",
    "    arpu = arpu.groupby('grp', as_index=False).agg({'rev':'sum','id':'nunique'})\n",
    "    arpu['arpu'] = arpu['rev'] / arpu['id']\n",
    "    \n",
    "    # Находим средний чек\n",
    "    mean = df_full.groupby('grp', as_index=False)['rev'].mean()\n",
    "    \n",
    "    # В отдельные переменные сохраняем значения каждой из групп\n",
    "    cr_A = cr.values[0][3]\n",
    "    cr_B = cr.values[1][3]\n",
    "    \n",
    "    arpu_A = arpu.values[0][3]\n",
    "    arpu_B = arpu.values[1][3]\n",
    "    \n",
    "    mean_A = mean.values[0][1]\n",
    "    mean_B = mean.values[1][1]\n",
    "    \n",
    "    # Выведем информацию что метрики посчитались\n",
    "    \n",
    "    print(f'''Значение метрик\n",
    "Конверсия для контрольной группы (А): {cr_A} %\n",
    "Конверсия для тестовой группы (В): {cr_B} %\n",
    "    \n",
    "Средний доход на одного пользователя для контрольной группы (А): {round((arpu_A),2)}\n",
    "Средний доход на одного пользователя для тестовой группы (В): {round((arpu_B),2)}\n",
    "\n",
    "Средняя выручка для контрольной группы (А): {round((mean_A),2)}\n",
    "Средняя выручка для тестовой группы (В): {round((mean_B),2)}''')\n",
    "    \n",
    "    # Сохраняем словарь с метриками\n",
    "    metricks =  { 'Group': ['A', 'B'],\n",
    "                  'CR':[cr_A, cr_B],\n",
    "                  'ARPU':[arpu_A, arpu_B],\n",
    "                  'Mean_rev':[mean_A, mean_B]\n",
    "                }\n",
    "    # Добавим дату, чтобы наш датасет с группами и юзерами сохранялся с датой, \n",
    "    # и была информация какой файл последний, если это потребуется\n",
    "    day = datetime.date.today()\n",
    "    add_csv.to_csv(f'{day}_main.csv')\n",
    "    return metricks\n",
    "\n",
    "\n",
    "# Напишем функцию, которая будет брать метрики и выводить визуализацию по ним, \n",
    "# заодно она будет выводить текстовую информацию\n",
    "def visualizes(uploading_additional_data, metricks = ['CR', 'ARPU', 'Mean_rev']):\n",
    "    \n",
    "    # Преобразовываем словарь в ДатаФрейм\n",
    "    df = pd.DataFrame(uploading_additional_data)\n",
    "    \n",
    "    # Проходимся по аргументу с метриками\n",
    "    for columns in metricks:\n",
    "        \n",
    "        plt.subplots(figsize=(5, 5))\n",
    "        plt.bar(df['Group'], df[columns], color='blue') \n",
    "        plt.title(f'График для метрики {columns}')\n",
    "        plt.xlabel('Группа')\n",
    "        plt.ylabel(columns)\n",
    "        plt.tight_layout()\n",
    "        plt.show()\n",
    "        \n",
    "# Удобность данной функции в том, что если появится потребность в других метриках, для которых данных достаточно,\n",
    "# мы с легкостью можем добавить формулу расчета этой метрики и вывести ее показатели"
   ]
  },
  {
   "cell_type": "code",
   "execution_count": 168,
   "metadata": {},
   "outputs": [
    {
     "name": "stderr",
     "output_type": "stream",
     "text": [
      "/opt/tljh/user/lib/python3.7/site-packages/ipykernel_launcher.py:18: SettingWithCopyWarning:\n",
      "\n",
      "\n",
      "A value is trying to be set on a copy of a slice from a DataFrame.\n",
      "Try using .loc[row_indexer,col_indexer] = value instead\n",
      "\n",
      "See the caveats in the documentation: https://pandas.pydata.org/pandas-docs/stable/user_guide/indexing.html#returning-a-view-versus-a-copy\n",
      "\n"
     ]
    },
    {
     "name": "stdout",
     "output_type": "stream",
     "text": [
      "Значение метрик\n",
      "Конверсия для контрольной группы (А): 6.83 %\n",
      "Конверсия для тестовой группы (В): 6.28 %\n",
      "    \n",
      "Средний доход на одного пользователя для контрольной группы (А): 58.77\n",
      "Средний доход на одного пользователя для тестовой группы (В): 69.79\n",
      "\n",
      "Средняя выручка для контрольной группы (А): 860.71\n",
      "Средняя выручка для тестовой группы (В): 1110.64\n",
      "<class 'dict'>\n"
     ]
    },
    {
     "data": {
      "image/png": "[encoded data removed]",
      "text/plain": [
       "<Figure size 360x360 with 1 Axes>"
      ]
     },
     "metadata": {
      "needs_background": "light"
     },
     "output_type": "display_data"
    },
    {
     "data": {
      "image/png": "[encoded data removed]",
      "text/plain": [
       "<Figure size 360x360 with 1 Axes>"
      ]
     },
     "metadata": {
      "needs_background": "light"
     },
     "output_type": "display_data"
    },
    {
     "data": {
      "image/png": "[encoded data removed]",
      "text/plain": [
       "<Figure size 360x360 with 1 Axes>"
      ]
     },
     "metadata": {
      "needs_background": "light"
     },
     "output_type": "display_data"
    }
   ],
   "source": [
    "visualizes(uploading_additional_data(groups, group_add))"
   ]
  },
  {
   "cell_type": "markdown",
   "metadata": {},
   "source": [
    "# Итоги проекта"
   ]
  },
  {
   "cell_type": "markdown",
   "metadata": {},
   "source": [
    "### А/В-тест:\n",
    "- Проведен анализ данных, обработка этих данных;\n",
    "- Посчитаны основные метрики такие как CR, ARPU, Средний чек;\n",
    "- Проверены, отличаются ли метрики в двух группах стат значимо.\n",
    "\n",
    "#### По итогу А/В-теста принято решение пока не внедрять новую систему оплаты\n",
    "\n",
    "### SQL:\n",
    "- Написан запрос, который подключается к базе данных в ClickHouse;\n",
    "- Запрос который считает количество активных учащихся;\n",
    "- Запрос, который считает необходимые метрики\n",
    "\n",
    "### Функция Python:\n",
    "Написана функция, которая принимает 2 аргумента, с изначальной информацией, и с той, которую необходимо добавить. Внутри функции эти таблицы объединяются и мерджаться с таблицами для рассчета метрик. Далее данные обрабатываются, считаютяс метрики, выводится основная информация о значениях метрик, изначальные 2 датафрейма объединяются в один и сохраняюся с датой запуска функции. Возвращает словарь с метриками.\n",
    "\n",
    "Вторая функция принимает на вход словарь, который вернула первая функция, и необязательный аргумент - метрики. По умолчанию визуализируются все 3 метрики - CR, ARPU, Средний чек. Также выводится информация, которая считалась в первой функции, это основная информация о значенях метрик в группах"
   ]
  }
 ],
 "metadata": {
  "kernelspec": {
   "display_name": "Python 3 (ipykernel)",
   "language": "python",
   "name": "python3"
  },
  "language_info": {
   "codemirror_mode": {
    "name": "ipython",
    "version": 3
   },
   "file_extension": ".py",
   "mimetype": "text/x-python",
   "name": "python",
   "nbconvert_exporter": "python",
   "pygments_lexer": "ipython3",
   "version": "3.12.4"
  }
 },
 "nbformat": 4,
 "nbformat_minor": 4
}
